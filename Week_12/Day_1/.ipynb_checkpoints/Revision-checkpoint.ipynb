{
 "cells": [
  {
   "cell_type": "markdown",
   "id": "a6ec1f18",
   "metadata": {},
   "source": [
    "https://www.youtube.com/watch?v=daefaLgNkw0"
   ]
  },
  {
   "cell_type": "code",
   "execution_count": 1,
   "id": "e7590fef",
   "metadata": {},
   "outputs": [
    {
     "name": "stdout",
     "output_type": "stream",
     "text": [
      "{'name': 'John', 'age': 25, 'courses': ['Maths', 'Science']}\n"
     ]
    }
   ],
   "source": [
    "student = {\"name\": \"John\", \"age\": 25, \"courses\": [\"Maths\", \"Science\"]}\n",
    "\n",
    "print(student)"
   ]
  },
  {
   "cell_type": "code",
   "execution_count": 3,
   "id": "49bc9b72",
   "metadata": {},
   "outputs": [
    {
     "name": "stdout",
     "output_type": "stream",
     "text": [
      "John\n"
     ]
    }
   ],
   "source": [
    "# Value of name\n",
    "print(student[\"name\"])"
   ]
  },
  {
   "cell_type": "code",
   "execution_count": 4,
   "id": "103cb1f0",
   "metadata": {},
   "outputs": [
    {
     "name": "stdout",
     "output_type": "stream",
     "text": [
      "['Maths', 'Science']\n"
     ]
    }
   ],
   "source": [
    "# Value of name\n",
    "print(student[\"courses\"])"
   ]
  },
  {
   "cell_type": "code",
   "execution_count": 6,
   "id": "0ee2027e",
   "metadata": {},
   "outputs": [
    {
     "name": "stdout",
     "output_type": "stream",
     "text": [
      "['Maths', 'Science']\n"
     ]
    }
   ],
   "source": [
    "print(student.get(\"courses\"))"
   ]
  },
  {
   "cell_type": "code",
   "execution_count": 7,
   "id": "37d1a8aa",
   "metadata": {},
   "outputs": [
    {
     "name": "stdout",
     "output_type": "stream",
     "text": [
      "None\n"
     ]
    }
   ],
   "source": [
    "# Looking for an unknown field returns none\n",
    "print(student.get(\"phone\"))"
   ]
  },
  {
   "cell_type": "code",
   "execution_count": 8,
   "id": "1141a131",
   "metadata": {},
   "outputs": [
    {
     "name": "stdout",
     "output_type": "stream",
     "text": [
      "Not Found\n"
     ]
    }
   ],
   "source": [
    "# Returns not found if not there\n",
    "print(student.get(\"phone\", \"Not Found\"))"
   ]
  },
  {
   "cell_type": "code",
   "execution_count": 9,
   "id": "84318a03",
   "metadata": {},
   "outputs": [
    {
     "name": "stdout",
     "output_type": "stream",
     "text": [
      "555-555\n"
     ]
    }
   ],
   "source": [
    "# Add phone number and look for it\n",
    "student[\"phone\"] = \"555-555\"\n",
    "print(student.get(\"phone\", \"Not Found\"))"
   ]
  },
  {
   "cell_type": "code",
   "execution_count": 10,
   "id": "8f47b0e1",
   "metadata": {},
   "outputs": [
    {
     "name": "stdout",
     "output_type": "stream",
     "text": [
      "{'name': 'John', 'age': 25, 'courses': ['Maths', 'Science'], 'phone': '555-555'}\n"
     ]
    }
   ],
   "source": [
    "# Check to see new item added\n",
    "print(student)"
   ]
  },
  {
   "cell_type": "code",
   "execution_count": 24,
   "id": "47ce7049",
   "metadata": {},
   "outputs": [
    {
     "name": "stdout",
     "output_type": "stream",
     "text": [
      "{'name': 'Jane', 'courses': ['Maths', 'Science'], 'phone': '555-5555', 'age': '26'}\n"
     ]
    }
   ],
   "source": [
    "# Updating variable\n",
    "student.update({\"name\": \"Jane\", \"age\": \"26\", \"phone\": \"555-5555\"})\n",
    "print(student)"
   ]
  },
  {
   "cell_type": "code",
   "execution_count": 18,
   "id": "babbd9d4",
   "metadata": {},
   "outputs": [
    {
     "name": "stdout",
     "output_type": "stream",
     "text": [
      "{'name': 'Jane', 'courses': ['Maths', 'Science'], 'phone': '555-5555'}\n"
     ]
    }
   ],
   "source": [
    "# delete a specific key \n",
    "del student[\"age\"]\n",
    "print(student)"
   ]
  },
  {
   "cell_type": "code",
   "execution_count": 25,
   "id": "7b50470a",
   "metadata": {},
   "outputs": [
    {
     "name": "stdout",
     "output_type": "stream",
     "text": [
      "{'name': 'Jane', 'courses': ['Maths', 'Science'], 'phone': '555-5555'}\n",
      "26\n"
     ]
    }
   ],
   "source": [
    "age = student.pop(\"age\")\n",
    "print(student)\n",
    "print(age)"
   ]
  },
  {
   "cell_type": "code",
   "execution_count": 27,
   "id": "0365052c",
   "metadata": {},
   "outputs": [
    {
     "name": "stdout",
     "output_type": "stream",
     "text": [
      "3\n"
     ]
    }
   ],
   "source": [
    "# print number of keys \n",
    "print(len(student))"
   ]
  },
  {
   "cell_type": "code",
   "execution_count": 28,
   "id": "94e547e3",
   "metadata": {},
   "outputs": [
    {
     "name": "stdout",
     "output_type": "stream",
     "text": [
      "dict_keys(['name', 'courses', 'phone'])\n"
     ]
    }
   ],
   "source": [
    "# show all of the keys\n",
    "print(student.keys())"
   ]
  },
  {
   "cell_type": "code",
   "execution_count": 29,
   "id": "7ae47ae6",
   "metadata": {},
   "outputs": [
    {
     "name": "stdout",
     "output_type": "stream",
     "text": [
      "dict_values(['Jane', ['Maths', 'Science'], '555-5555'])\n"
     ]
    }
   ],
   "source": [
    "# show all of the values\n",
    "print(student.values())"
   ]
  },
  {
   "cell_type": "code",
   "execution_count": 31,
   "id": "a4c4e1d4",
   "metadata": {},
   "outputs": [
    {
     "name": "stdout",
     "output_type": "stream",
     "text": [
      "dict_items([('name', 'Jane'), ('courses', ['Maths', 'Science']), ('phone', '555-5555')])\n"
     ]
    }
   ],
   "source": [
    "# show all of the items - shows the pairs\n",
    "print(student.items())"
   ]
  },
  {
   "cell_type": "code",
   "execution_count": 32,
   "id": "78079101",
   "metadata": {},
   "outputs": [
    {
     "name": "stdout",
     "output_type": "stream",
     "text": [
      "name\n",
      "courses\n",
      "phone\n"
     ]
    }
   ],
   "source": [
    "# loop through and print keys\n",
    "for key in student:\n",
    "    print(key)"
   ]
  },
  {
   "cell_type": "code",
   "execution_count": 34,
   "id": "2acceb93",
   "metadata": {},
   "outputs": [
    {
     "name": "stdout",
     "output_type": "stream",
     "text": [
      "name Jane\n",
      "courses ['Maths', 'Science']\n",
      "phone 555-5555\n"
     ]
    }
   ],
   "source": [
    "# loop through and print keys and values\n",
    "for key, value in student.items():\n",
    "    print(key, value)"
   ]
  },
  {
   "cell_type": "markdown",
   "id": "4c0b90b6",
   "metadata": {},
   "source": [
    "https://www.youtube.com/watch?v=DZwmZ8Usvnk"
   ]
  },
  {
   "cell_type": "code",
   "execution_count": 35,
   "id": "54ee89cf",
   "metadata": {},
   "outputs": [
    {
     "name": "stdout",
     "output_type": "stream",
     "text": [
      "conditional was True\n"
     ]
    }
   ],
   "source": [
    "if True:\n",
    "    print(\"conditional was True\")"
   ]
  },
  {
   "cell_type": "code",
   "execution_count": 36,
   "id": "d706cb3a",
   "metadata": {},
   "outputs": [],
   "source": [
    "# Produces no answer as no false option\n",
    "if False:\n",
    "    print(\"conditional was True\")"
   ]
  },
  {
   "cell_type": "code",
   "execution_count": 37,
   "id": "1312ac7f",
   "metadata": {},
   "outputs": [
    {
     "name": "stdout",
     "output_type": "stream",
     "text": [
      "conditional was True\n"
     ]
    }
   ],
   "source": [
    "language = \"Python\"\n",
    "if language == \"Python\":\n",
    "    print(\"conditional was True\")"
   ]
  },
  {
   "cell_type": "code",
   "execution_count": 38,
   "id": "241596cb",
   "metadata": {},
   "outputs": [],
   "source": [
    "# Comparisons:\n",
    "# Equal:            ==\n",
    "# Not Equal:        !=\n",
    "# Greater Than:     >\n",
    "# Less Than:        <\n",
    "# Greater or Equal: >=\n",
    "# Less or Equal:    <=\n",
    "# Object Identity:  is"
   ]
  },
  {
   "cell_type": "code",
   "execution_count": 39,
   "id": "1628f79a",
   "metadata": {},
   "outputs": [
    {
     "name": "stdout",
     "output_type": "stream",
     "text": [
      "Language is Python\n"
     ]
    }
   ],
   "source": [
    "language = \"Python\"\n",
    "if language == \"Python\":\n",
    "    print(\"Language is Python\")\n",
    "else:\n",
    "    print(\"No match\")"
   ]
  },
  {
   "cell_type": "code",
   "execution_count": 40,
   "id": "56478d45",
   "metadata": {},
   "outputs": [
    {
     "name": "stdout",
     "output_type": "stream",
     "text": [
      "No match\n"
     ]
    }
   ],
   "source": [
    "language = \"Ruby\"\n",
    "if language == \"Python\":\n",
    "    print(\"Language is Python\")\n",
    "else:\n",
    "    print(\"No match\")"
   ]
  },
  {
   "cell_type": "code",
   "execution_count": null,
   "id": "4e225c05",
   "metadata": {},
   "outputs": [],
   "source": []
  }
 ],
 "metadata": {
  "kernelspec": {
   "display_name": "Python 3",
   "language": "python",
   "name": "python3"
  },
  "language_info": {
   "codemirror_mode": {
    "name": "ipython",
    "version": 3
   },
   "file_extension": ".py",
   "mimetype": "text/x-python",
   "name": "python",
   "nbconvert_exporter": "python",
   "pygments_lexer": "ipython3",
   "version": "3.8.8"
  },
  "varInspector": {
   "cols": {
    "lenName": 16,
    "lenType": 16,
    "lenVar": 40
   },
   "kernels_config": {
    "python": {
     "delete_cmd_postfix": "",
     "delete_cmd_prefix": "del ",
     "library": "var_list.py",
     "varRefreshCmd": "print(var_dic_list())"
    },
    "r": {
     "delete_cmd_postfix": ") ",
     "delete_cmd_prefix": "rm(",
     "library": "var_list.r",
     "varRefreshCmd": "cat(var_dic_list()) "
    }
   },
   "types_to_exclude": [
    "module",
    "function",
    "builtin_function_or_method",
    "instance",
    "_Feature"
   ],
   "window_display": false
  }
 },
 "nbformat": 4,
 "nbformat_minor": 5
}
